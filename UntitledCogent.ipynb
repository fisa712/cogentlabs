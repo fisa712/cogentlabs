{
  "cells": [
    {
      "cell_type": "markdown",
      "metadata": {},
      "source": [
        "# Study Plan generation using LangChain 🦜🔗\n",
        "- Setup: please run requirements.txt file to make sure the dependencies are installed.\n",
        "- Environment variables: create a .env file and place your API_KEY inside it.\n",
        "\n",
        "[View Notebook on GitHub](https://github.com/fisa712/cogentlabs/blob/main/UntitledCogent.ipynb)\n",
        "\n",
        "\n",
        "[![Run in Colab](https://colab.research.google.com/assets/colab-badge.svg)](https://colab.research.google.com/github/yourusername/yourrepository/blob/main/path/to/your_notebook.ipynb)"
      ]
    },
    {
      "cell_type": "code",
      "execution_count": 4,
      "metadata": {
        "id": "S_cU5-OyYVvl"
      },
      "outputs": [],
      "source": [
        "from langchain.prompts import PromptTemplate\n",
        "from langchain_core.prompts import ChatPromptTemplate\n",
        "from langchain_core.runnables import RunnableParallel\n",
        "from langchain_openai import ChatOpenAI\n",
        "from dotenv import load_dotenv\n",
        "import os\n",
        "\n",
        "load_dotenv()\n",
        "\n",
        "openai_key = os.getenv('OPENAI_API_KEY')\n",
        "\n",
        "\n",
        "model = ChatOpenAI(api_key = openai_key, model='gpt-4')\n",
        "template = \"\"\"\n",
        "You are an expert educational consultant specializing in creating personalized study plans for students. Your task is to generate a customized study plan for the student based on the provided information and the template. The study plan should address academic requirements, preferred learning styles, personal objectives, challenges, and extracurricular activities.\n",
        "\n",
        "### Student Information:\n",
        "  - Name: {name}\n",
        "  - Field of Study: {field_of_study}\n",
        "  - Year of Study: {year_of_study}\n",
        "  - List of Subjects: {list_of_subjects}\n",
        "  - Preferred Learning Styles: {preferred_learning_styles}\n",
        "  - Personal Objectives: {personal_objectives}\n",
        "  - Challenges: {challenges}\n",
        "  - Extracurricular Activities: {extracurricular_activities}\n",
        "\n",
        "### Study Plan Template:\n",
        "  -> Week 1-4: Initial Phase\n",
        "  - Academic Goals:\n",
        "    <provide a list of goals to achieve in the coming month on the basis of previous academic record of student.>\n",
        "\n",
        "  -> Weekly Schedule:\n",
        "  - Monday to Friday:\n",
        "    **Instruction**: To create a weekly schedule analyze data of student and list the names of courses that needs to be improved in terms of more practice, review and study.\n",
        "    <time slot>: <course name: motivation why this course should be prioritized>\n",
        "    <time slot>: <break> (if required between the courses for a healthy balance)\n",
        "    ...\n",
        "  - Weekends:\n",
        "    **Instruction**: Analyze data and decide how a student should be spending his time in extracurricular and kinesthetic activities according to the students details provided.\n",
        "    <duration> hours of <activity>\n",
        "    ...\n",
        "  - Resources:\n",
        "    **Instruction**: Provide a list of resources best suitable for the students abilities and previous performances.\n",
        "    <resource name> : <type>, <discuss what it will cover>\n",
        "    ...\n",
        "  - Check-ins:\n",
        "    **Instruction**: Provide a meeting schedule to meet the improvements and deficiencies.\n",
        "    <meeting name> <meeting time slot>: <meeting reason, objectives>\n",
        "    ...\n",
        "  - Personal Goals:\n",
        "\n",
        "    **Instruction**: List any exercise or any hobby for student to craete a worklife balance by looking at its data.\n",
        "    <technique/ exercise>: <motivation and its impact>\n",
        "\n",
        "Remember to make the study plan as detailed and actionable as possible, catering to the unique needs and aspirations of the student.\n",
        "\"\"\"\n",
        "\n",
        "prompt = PromptTemplate(template=template, input_variables=[\n",
        "    \"name\",\n",
        "    \"field_of_study\",\n",
        "    \"year_of_study\",\n",
        "    \"list_of_subjects\",\n",
        "    \"preferred_learning_styles\",\n",
        "    \"personal_objectives\",\n",
        "    \"challenges\",\n",
        "    \"extracurricular_activities\"\n",
        "])\n",
        "# Example input\n",
        "input_data = {\n",
        "    \"name\": \"John Doe\",\n",
        "    \"field_of_study\": \"Computer Science\",\n",
        "    \"year_of_study\": \"2nd Year\",\n",
        "    \"list_of_subjects\": \"Algorithms, Data Structures, Operating Systems, Databases\",\n",
        "    \"preferred_learning_styles\": \"visual, auditory\",\n",
        "    \"personal_objectives\": \"prepare for upcoming exams, understand algorithms better\",\n",
        "    \"challenges\": \"difficulty in understanding complex algorithms\",\n",
        "    \"extracurricular_activities\": \"chess club, coding competitions\"\n",
        "}\n",
        "\n",
        "chain =  prompt | model\n",
        "result = chain.invoke(input_data)\n"
      ]
    },
    {
      "cell_type": "code",
      "execution_count": 5,
      "metadata": {
        "colab": {
          "base_uri": "https://localhost:8080/"
        },
        "id": "T9KLPPtkbJBN",
        "outputId": "f82f99ea-3339-4fad-e1b3-db2b2510b6ef"
      },
      "outputs": [
        {
          "name": "stdout",
          "output_type": "stream",
          "text": [
            "### Study Plan:\n",
            "\n",
            "-> Week 1-4: Initial Phase\n",
            "  - Academic Goals:\n",
            "    - Gain a comprehensive understanding of Algorithms and Data Structures\n",
            "    - Improve proficiency in Operating Systems and Databases\n",
            "    - Prepare thoroughly for the upcoming exams\n",
            "\n",
            "-> Weekly Schedule:\n",
            "  - Monday to Friday:\n",
            "    - 9:00am - 11:00am: Algorithms (Because understanding algorithms is John's primary goal)\n",
            "    - 11:00am - 11:30am: Break\n",
            "    - 11:30am - 1:30pm: Data Structures (To get a strong foundation in computer science)\n",
            "    - 1:30pm - 2:30pm: Lunch \n",
            "    - 2:30pm - 4:30pm: Operating Systems (This subject forms the basis for understanding the functionality of computers)\n",
            "    - 4:30pm - 5:00pm: Break\n",
            "    - 5:00pm - 7:00pm: Databases (Understanding databases is essential for any computer science student)\n",
            "  - Weekends:\n",
            "    - 2 hours of Chess Club activities (This will help John relax and enhance his strategic thinking)\n",
            "    - 3 hours of Coding Competitions (To apply his theoretical knowledge in practical scenarios)\n",
            "\n",
            "- Resources:\n",
            "    - Algorithms Unlocked (Book: Covers basics of algorithms)\n",
            "    - Introduction to Algorithms by Cormen (Book: Detailed coverage of algorithms)\n",
            "    - Database System Concepts by Silberschatz (Book: For understanding Databases)\n",
            "    - Operating System Concepts by Silberschatz (Book: For understanding Operating Systems)\n",
            "    - Coursera Course on Data Structures (Online Course: Comprehensive coverage of data structures)\n",
            "    - YouTube Channel: HackerRank (Visual and Auditory Learning: Tutorials on Algorithms and Data Structures)\n",
            "\n",
            "- Check-ins:\n",
            "    - Weekly Review Meeting every Friday 7:30pm - 8:30pm: To discuss the week's progress, address queries and plan for the next week.\n",
            "\n",
            "- Personal Goals:\n",
            "  - Meditation: 20 minutes daily (It helps in improving focus and reducing stress)\n",
            "  - Casual Reading: 30 minutes before bed (To relax and improve language skills)\n",
            "  \n",
            "This plan caters to John's academic requirements and personal objectives, while addressing his challenges and providing time for relaxation and extracurricular activities. It also considers his preferred learning style and provides resources accordingly.\n"
          ]
        }
      ],
      "source": [
        "print(result.content)"
      ]
    },
    {
      "cell_type": "markdown",
      "metadata": {},
      "source": [
        "Summary Generation "
      ]
    },
    {
      "cell_type": "markdown",
      "metadata": {},
      "source": [
        "With LangChain, the map_reduce chain breaks the document down into 1024 token chunks max."
      ]
    },
    {
      "cell_type": "code",
      "execution_count": null,
      "metadata": {},
      "outputs": [],
      "source": [
        "%pip install --upgrade --quiet langchain-google-community[drive]"
      ]
    },
    {
      "cell_type": "code",
      "execution_count": 7,
      "metadata": {},
      "outputs": [],
      "source": [
        "from langchain_google_community import GoogleDriveLoader"
      ]
    },
    {
      "cell_type": "code",
      "execution_count": 1,
      "metadata": {},
      "outputs": [],
      "source": [
        "# loader = GoogleDriveLoader(\n",
        "#     document_ids=['1WYaEoSozvUmJ_Lt5clAVs8NuSu43h9ps'],\n",
        "#     token_path=\"credentials/client_secret.json\",\n",
        "#     # Optional: configure whether to recursively fetch files from subfolders. Defaults to False.\n",
        "#     recursive=False,\n",
        "# )\n",
        "\n",
        "from langchain_community.document_loaders import PyPDFLoader\n",
        "\n",
        "loader = PyPDFLoader(\"./books/crime-and-punishment.pdf\", )\n",
        "# pages = loader.load_and_split()\n",
        "docs = loader.load()"
      ]
    },
    {
      "cell_type": "code",
      "execution_count": 4,
      "metadata": {},
      "outputs": [
        {
          "data": {
            "text/plain": [
              "767"
            ]
          },
          "execution_count": 4,
          "metadata": {},
          "output_type": "execute_result"
        }
      ],
      "source": [
        "len(docs)"
      ]
    },
    {
      "cell_type": "code",
      "execution_count": null,
      "metadata": {},
      "outputs": [],
      "source": [
        "docs"
      ]
    }
  ],
  "metadata": {
    "colab": {
      "provenance": []
    },
    "kernelspec": {
      "display_name": "Python 3",
      "name": "python3"
    },
    "language_info": {
      "codemirror_mode": {
        "name": "ipython",
        "version": 3
      },
      "file_extension": ".py",
      "mimetype": "text/x-python",
      "name": "python",
      "nbconvert_exporter": "python",
      "pygments_lexer": "ipython3",
      "version": "3.12.2"
    }
  },
  "nbformat": 4,
  "nbformat_minor": 0
}
