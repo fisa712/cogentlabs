{
  "cells": [
    {
      "cell_type": "code",
      "execution_count": null,
      "metadata": {
        "colab": {
          "base_uri": "https://localhost:8080/"
        },
        "collapsed": true,
        "id": "RXTvA521OM-E",
        "outputId": "f768e7f7-c872-4102-ebde-26119a49157f"
      },
      "outputs": [
        {
          "name": "stdout",
          "output_type": "stream",
          "text": [
            "Requirement already satisfied: langchain_core in /usr/local/lib/python3.10/dist-packages (0.2.10)\n",
            "Requirement already satisfied: langchain_openai in /usr/local/lib/python3.10/dist-packages (0.1.13)\n",
            "Collecting langchain\n",
            "  Downloading langchain-0.2.6-py3-none-any.whl (975 kB)\n",
            "\u001b[2K     \u001b[90m━━━━━━━━━━━━━━━━━━━━━━━━━━━━━━━━━━━━━━━━\u001b[0m \u001b[32m975.5/975.5 kB\u001b[0m \u001b[31m12.0 MB/s\u001b[0m eta \u001b[36m0:00:00\u001b[0m\n",
            "\u001b[?25hRequirement already satisfied: PyYAML>=5.3 in /usr/local/lib/python3.10/dist-packages (from langchain_core) (6.0.1)\n",
            "Requirement already satisfied: jsonpatch<2.0,>=1.33 in /usr/local/lib/python3.10/dist-packages (from langchain_core) (1.33)\n",
            "Requirement already satisfied: langsmith<0.2.0,>=0.1.75 in /usr/local/lib/python3.10/dist-packages (from langchain_core) (0.1.83)\n",
            "Requirement already satisfied: packaging<25,>=23.2 in /usr/local/lib/python3.10/dist-packages (from langchain_core) (24.1)\n",
            "Requirement already satisfied: pydantic<3,>=1 in /usr/local/lib/python3.10/dist-packages (from langchain_core) (2.7.4)\n",
            "Requirement already satisfied: tenacity!=8.4.0,<9.0.0,>=8.1.0 in /usr/local/lib/python3.10/dist-packages (from langchain_core) (8.4.2)\n",
            "Requirement already satisfied: openai<2.0.0,>=1.32.0 in /usr/local/lib/python3.10/dist-packages (from langchain_openai) (1.35.7)\n",
            "Requirement already satisfied: tiktoken<1,>=0.7 in /usr/local/lib/python3.10/dist-packages (from langchain_openai) (0.7.0)\n",
            "Requirement already satisfied: SQLAlchemy<3,>=1.4 in /usr/local/lib/python3.10/dist-packages (from langchain) (2.0.31)\n",
            "Requirement already satisfied: aiohttp<4.0.0,>=3.8.3 in /usr/local/lib/python3.10/dist-packages (from langchain) (3.9.5)\n",
            "Requirement already satisfied: async-timeout<5.0.0,>=4.0.0 in /usr/local/lib/python3.10/dist-packages (from langchain) (4.0.3)\n",
            "Collecting langchain-text-splitters<0.3.0,>=0.2.0 (from langchain)\n",
            "  Downloading langchain_text_splitters-0.2.2-py3-none-any.whl (25 kB)\n",
            "Requirement already satisfied: numpy<2,>=1 in /usr/local/lib/python3.10/dist-packages (from langchain) (1.25.2)\n",
            "Requirement already satisfied: requests<3,>=2 in /usr/local/lib/python3.10/dist-packages (from langchain) (2.31.0)\n",
            "Requirement already satisfied: aiosignal>=1.1.2 in /usr/local/lib/python3.10/dist-packages (from aiohttp<4.0.0,>=3.8.3->langchain) (1.3.1)\n",
            "Requirement already satisfied: attrs>=17.3.0 in /usr/local/lib/python3.10/dist-packages (from aiohttp<4.0.0,>=3.8.3->langchain) (23.2.0)\n",
            "Requirement already satisfied: frozenlist>=1.1.1 in /usr/local/lib/python3.10/dist-packages (from aiohttp<4.0.0,>=3.8.3->langchain) (1.4.1)\n",
            "Requirement already satisfied: multidict<7.0,>=4.5 in /usr/local/lib/python3.10/dist-packages (from aiohttp<4.0.0,>=3.8.3->langchain) (6.0.5)\n",
            "Requirement already satisfied: yarl<2.0,>=1.0 in /usr/local/lib/python3.10/dist-packages (from aiohttp<4.0.0,>=3.8.3->langchain) (1.9.4)\n",
            "Requirement already satisfied: jsonpointer>=1.9 in /usr/local/lib/python3.10/dist-packages (from jsonpatch<2.0,>=1.33->langchain_core) (3.0.0)\n",
            "Requirement already satisfied: orjson<4.0.0,>=3.9.14 in /usr/local/lib/python3.10/dist-packages (from langsmith<0.2.0,>=0.1.75->langchain_core) (3.10.5)\n",
            "Requirement already satisfied: anyio<5,>=3.5.0 in /usr/local/lib/python3.10/dist-packages (from openai<2.0.0,>=1.32.0->langchain_openai) (3.7.1)\n",
            "Requirement already satisfied: distro<2,>=1.7.0 in /usr/lib/python3/dist-packages (from openai<2.0.0,>=1.32.0->langchain_openai) (1.7.0)\n",
            "Requirement already satisfied: httpx<1,>=0.23.0 in /usr/local/lib/python3.10/dist-packages (from openai<2.0.0,>=1.32.0->langchain_openai) (0.27.0)\n",
            "Requirement already satisfied: sniffio in /usr/local/lib/python3.10/dist-packages (from openai<2.0.0,>=1.32.0->langchain_openai) (1.3.1)\n",
            "Requirement already satisfied: tqdm>4 in /usr/local/lib/python3.10/dist-packages (from openai<2.0.0,>=1.32.0->langchain_openai) (4.66.4)\n",
            "Requirement already satisfied: typing-extensions<5,>=4.7 in /usr/local/lib/python3.10/dist-packages (from openai<2.0.0,>=1.32.0->langchain_openai) (4.12.2)\n",
            "Requirement already satisfied: annotated-types>=0.4.0 in /usr/local/lib/python3.10/dist-packages (from pydantic<3,>=1->langchain_core) (0.7.0)\n",
            "Requirement already satisfied: pydantic-core==2.18.4 in /usr/local/lib/python3.10/dist-packages (from pydantic<3,>=1->langchain_core) (2.18.4)\n",
            "Requirement already satisfied: charset-normalizer<4,>=2 in /usr/local/lib/python3.10/dist-packages (from requests<3,>=2->langchain) (3.3.2)\n",
            "Requirement already satisfied: idna<4,>=2.5 in /usr/local/lib/python3.10/dist-packages (from requests<3,>=2->langchain) (3.7)\n",
            "Requirement already satisfied: urllib3<3,>=1.21.1 in /usr/local/lib/python3.10/dist-packages (from requests<3,>=2->langchain) (2.0.7)\n",
            "Requirement already satisfied: certifi>=2017.4.17 in /usr/local/lib/python3.10/dist-packages (from requests<3,>=2->langchain) (2024.6.2)\n",
            "Requirement already satisfied: greenlet!=0.4.17 in /usr/local/lib/python3.10/dist-packages (from SQLAlchemy<3,>=1.4->langchain) (3.0.3)\n",
            "Requirement already satisfied: regex>=2022.1.18 in /usr/local/lib/python3.10/dist-packages (from tiktoken<1,>=0.7->langchain_openai) (2024.5.15)\n",
            "Requirement already satisfied: exceptiongroup in /usr/local/lib/python3.10/dist-packages (from anyio<5,>=3.5.0->openai<2.0.0,>=1.32.0->langchain_openai) (1.2.1)\n",
            "Requirement already satisfied: httpcore==1.* in /usr/local/lib/python3.10/dist-packages (from httpx<1,>=0.23.0->openai<2.0.0,>=1.32.0->langchain_openai) (1.0.5)\n",
            "Requirement already satisfied: h11<0.15,>=0.13 in /usr/local/lib/python3.10/dist-packages (from httpcore==1.*->httpx<1,>=0.23.0->openai<2.0.0,>=1.32.0->langchain_openai) (0.14.0)\n",
            "Installing collected packages: langchain-text-splitters, langchain\n",
            "Successfully installed langchain-0.2.6 langchain-text-splitters-0.2.2\n"
          ]
        }
      ],
      "source": [
        "# !pip install langchain_core langchain_openai langchain"
      ]
    },
    {
      "cell_type": "code",
      "execution_count": null,
      "metadata": {
        "colab": {
          "base_uri": "https://localhost:8080/"
        },
        "id": "s6vnTZkTMcZW",
        "outputId": "57e310a3-bccb-4654-8dd1-458a3289075f"
      },
      "outputs": [
        {
          "name": "stdout",
          "output_type": "stream",
          "text": [
            "{'introduction': AIMessage(content='John Doe is a 2nd year student majoring in Computer Science. He is currently studying subjects such as Algorithms, Data Structures, Operating Systems, and Databases. John shows a keen interest in programming and has a strong foundation in computer science fundamentals. He is dedicated and hardworking, always looking to expand his knowledge and skills in the field. John is a promising student with a bright future ahead in the tech industry.', response_metadata={'token_usage': {'completion_tokens': 85, 'prompt_tokens': 53, 'total_tokens': 138}, 'model_name': 'gpt-3.5-turbo-0125', 'system_fingerprint': None, 'finish_reason': 'stop', 'logprobs': None}, id='run-80742e96-ba9c-479b-b2cb-ee0b8739c4e4-0', usage_metadata={'input_tokens': 53, 'output_tokens': 85, 'total_tokens': 138}), 'academic_analysis': AIMessage(content=\"Algorithms: The student consistently performs well in algorithms, demonstrating a strong understanding of the concepts and consistently achieving high grades on assignments and exams.\\n\\nData Structures: The student's performance in data structures is also strong, showing a good grasp of the material and consistently scoring well on assessments.\\n\\nOperating Systems: The student's performance in operating systems is average, with some struggles in understanding more complex topics. However, the student shows improvement over time and is able to grasp the fundamental concepts.\\n\\nDatabases: The student's performance in databases is below average, with difficulty in understanding the material and struggling to achieve satisfactory grades on assignments and exams. The student may benefit from additional support or resources in this subject.\", response_metadata={'token_usage': {'completion_tokens': 138, 'prompt_tokens': 33, 'total_tokens': 171}, 'model_name': 'gpt-3.5-turbo-0125', 'system_fingerprint': None, 'finish_reason': 'stop', 'logprobs': None}, id='run-792f561a-94ab-4f49-b6ff-599f01e96115-0', usage_metadata={'input_tokens': 33, 'output_tokens': 138, 'total_tokens': 171}), 'learning_styles': AIMessage(content=\"For a student with a visual learning style, I would recommend using visual aids such as diagrams, charts, and mind maps to help organize information and make connections between concepts. Flashcards with images or color-coding key information can also be helpful for visual learners. Online resources like videos, animations, and interactive simulations can provide visual learners with a more dynamic way to engage with material.\\n\\nFor a student with an auditory learning style, I would suggest recording lectures or reading materials and listening to them multiple times to reinforce understanding. Group discussions and verbal explanations of concepts can also be beneficial for auditory learners. Podcasts and audio recordings of textbooks or study guides can provide auditory learners with alternative ways to engage with material.\\n\\nIncorporating a combination of visual and auditory study methods can also be effective for students who have a preference for both learning styles. Experiment with different techniques to see what works best for you and don't be afraid to mix and match strategies to find the most effective study approach.\", response_metadata={'token_usage': {'completion_tokens': 196, 'prompt_tokens': 26, 'total_tokens': 222}, 'model_name': 'gpt-3.5-turbo-0125', 'system_fingerprint': None, 'finish_reason': 'stop', 'logprobs': None}, id='run-9e0cb372-8acd-495c-b9d2-09025e1b3bc1-0', usage_metadata={'input_tokens': 26, 'output_tokens': 196, 'total_tokens': 222}), 'personal_objectives': AIMessage(content='1. Create a study schedule: Allocate specific times each day to study algorithms and prepare for exams. Break down complex algorithms into smaller, more manageable chunks to make them easier to understand.\\n\\n2. Seek help from peers or a tutor: Collaborate with classmates or seek assistance from a tutor who can explain complex algorithms in a way that is easier for you to understand. Working with others can also provide new perspectives and insights.\\n\\n3. Practice with coding exercises: Implement the algorithms you are studying by practicing with coding exercises. This hands-on approach can help reinforce your understanding and improve your problem-solving skills.\\n\\n4. Use online resources: Utilize online resources such as tutorials, videos, and forums to supplement your learning. Websites like Khan Academy, Coursera, and LeetCode offer valuable resources for understanding algorithms and practicing problem-solving.\\n\\n5. Take breaks and stay motivated: Remember to take breaks during study sessions to prevent burnout and maintain motivation. Set small, achievable goals for yourself and celebrate your progress to stay motivated and focused on your objectives.\\n\\n6. Review and revise regularly: Continuously review and revise the algorithms you have studied to reinforce your understanding and retain the information for exams. Practice past exam questions to familiarize yourself with the format and types of questions that may be asked.\\n\\n7. Stay positive and persistent: Remember that learning complex algorithms takes time and effort, so be patient with yourself and stay persistent in your studies. Believe in your ability to overcome challenges and achieve your goals with determination and hard work.', response_metadata={'token_usage': {'completion_tokens': 302, 'prompt_tokens': 41, 'total_tokens': 343}, 'model_name': 'gpt-3.5-turbo-0125', 'system_fingerprint': None, 'finish_reason': 'stop', 'logprobs': None}, id='run-d881d926-83ad-48af-9c0e-c01f42e88f6d-0', usage_metadata={'input_tokens': 41, 'output_tokens': 302, 'total_tokens': 343}), 'extracurricular_activities': AIMessage(content=\"To create a well-rounded study plan that incorporates your extracurricular activities, such as chess club and coding competitions, it's important to strike a balance between academic and personal development. Here's how you can structure your study plan:\\n\\n1. Allocate specific time slots for studying, attending classes, and completing homework assignments. Make sure to prioritize your academic commitments while also leaving room for your extracurricular activities.\\n\\n2. Dedicate a set amount of time each week to participate in chess club meetings and practice sessions. This will not only help you improve your strategic thinking skills but also provide a much-needed break from academic studies.\\n\\n3. Schedule regular coding practice sessions to prepare for upcoming competitions. Set goals for yourself, such as completing a certain number of coding challenges each week, and track your progress to stay motivated.\\n\\n4. Use your extracurricular activities as a way to enhance your academic learning. For example, you can apply strategic thinking skills from chess to problem-solving in math or use coding skills to analyze data for a science project.\\n\\n5. Don't forget to prioritize self-care and relaxation. Make time for activities that help you recharge, such as exercise, hobbies, or spending time with friends and family.\\n\\nBy integrating your extracurricular activities into your study plan, you can achieve a balance between academic success and personal growth. Remember to stay organized, set realistic goals, and make time for both your academic and personal development. Good luck!\", response_metadata={'token_usage': {'completion_tokens': 293, 'prompt_tokens': 40, 'total_tokens': 333}, 'model_name': 'gpt-3.5-turbo-0125', 'system_fingerprint': None, 'finish_reason': 'stop', 'logprobs': None}, id='run-6870d7a5-8c27-498d-b754-22995d92d77e-0', usage_metadata={'input_tokens': 40, 'output_tokens': 293, 'total_tokens': 333}), 'synthesis': AIMessage(content='Study Plan for John Doe:\\n\\n1. Identify Learning Styles: Since you prefer visual and auditory learning styles, incorporate visual aids such as diagrams, flowcharts, and videos in your study materials. Also, consider watching online tutorials or attending study groups where discussions are a key component.\\n\\n2. Subject-wise Study Schedule:\\n   - Algorithms: Allocate more time for this subject as it is a challenging one for you. Break down complex algorithms into smaller parts and understand them step by step. Practice solving problems regularly.\\n   - Data Structures: Create flashcards or mind maps to remember different data structures and their implementations. Practice coding exercises to strengthen your understanding.\\n   - Operating Systems: Focus on understanding the core concepts and mechanisms of operating systems. Use simulation tools or practical examples to grasp the functioning of OS components.\\n   - Databases: Practice designing and querying databases using SQL. Work on real-world projects to apply theoretical knowledge.\\n\\n3. Study Techniques:\\n   - Create a study routine and stick to it. Allocate specific time slots for each subject and prioritize based on upcoming exams.\\n   - Use mnemonic devices to remember key concepts and algorithms. Create acronyms or rhymes to recall information easily.\\n   - Take breaks in between study sessions to avoid burnout. Engage in physical activities or play chess to refresh your mind.\\n\\n4. Resources:\\n   - Textbooks: Refer to recommended textbooks for each subject to supplement your classroom learning.\\n   - Online Courses: Enroll in online courses on platforms like Coursera or Udemy for additional explanations and practice exercises.\\n   - Study Groups: Join study groups or coding competitions to collaborate with peers and gain different perspectives on complex topics.\\n\\n5. Extracurricular Activities:\\n   - Balance your time between academics and extracurricular activities like the chess club and coding competitions. These activities can provide a mental break and improve problem-solving skills.\\n   - Incorporate coding challenges related to your subjects to make learning more interactive and engaging.\\n\\nBy following this personalized study plan, you can effectively prepare for your upcoming exams, improve your understanding of algorithms, and overcome the challenges you face in your second year of Computer Science studies. Remember to stay consistent, motivated, and seek help from professors or classmates whenever needed. Good luck!', response_metadata={'token_usage': {'completion_tokens': 450, 'prompt_tokens': 106, 'total_tokens': 556}, 'model_name': 'gpt-3.5-turbo-0125', 'system_fingerprint': None, 'finish_reason': 'stop', 'logprobs': None}, id='run-5d6c2113-6932-4df0-a2f6-d168b4fde7a8-0', usage_metadata={'input_tokens': 106, 'output_tokens': 450, 'total_tokens': 556}), 'closing_remarks': AIMessage(content='The study plan involves setting specific goals, creating a schedule, staying organized, and staying motivated through rewards and breaks. It is important to break down study sessions into smaller, manageable tasks and to track progress along the way. Additional recommendations include finding a study group or partner for accountability, seeking help from professors or tutors when needed, and prioritizing self-care to maintain mental and physical well-being. Remember to stay positive, stay focused, and believe in yourself throughout the study process. Good luck!', response_metadata={'token_usage': {'completion_tokens': 98, 'prompt_tokens': 21, 'total_tokens': 119}, 'model_name': 'gpt-3.5-turbo-0125', 'system_fingerprint': None, 'finish_reason': 'stop', 'logprobs': None}, id='run-f9f57151-6f2f-4272-8b75-5e77586af5ed-0', usage_metadata={'input_tokens': 21, 'output_tokens': 98, 'total_tokens': 119})}\n"
          ]
        }
      ],
      "source": [
        "\n",
        "\n",
        "sys_prompt = \"\"\"You are an expert educational consultant specializing in creating personalized study plans for students. Your task is to generate a customized study plan for the student based on the provided information. The study plan should address academic requirements, preferred learning styles, personal objectives, challenges, and extracurricular activities.\n",
        "\n",
        "              Student Information:\n",
        "              - Name: {name}\n",
        "              - Field of Study: {field_of_study}\n",
        "              - Year of Study: {year_of_study}\n",
        "              - List of Subjects: {list_of_subjects}\n",
        "              - Preferred Learning Styles: {preferred_learning_styles}\n",
        "              - Personal Objectives: {personal_objectives}\n",
        "              - Challenges: {challenges}\n",
        "              - Extracurricular Activities: {extracurricular_activities}\n",
        "              \"\"\"\n",
        "# Define individual chains for each part of the study plan\n",
        "introduction_chain = ChatPromptTemplate.from_template(\n",
        "    \"Provide a brief overview of the student's profile. Name: {name}, Field of Study: {field_of_study}, Year of Study: {year_of_study}, List of Subjects: {list_of_subjects}.\"\n",
        ") | model\n",
        "\n",
        "academic_analysis_chain = ChatPromptTemplate.from_template(\n",
        "    \"Analyze the student's academic performance in each subject. List of Subjects: {list_of_subjects}.\"\n",
        ") | model\n",
        "\n",
        "learning_styles_chain = ChatPromptTemplate.from_template(\n",
        "    \"Based on the student's preferred learning styles ({preferred_learning_styles}), suggest study methods and resources.\"\n",
        ") | model\n",
        "\n",
        "personal_objectives_chain = ChatPromptTemplate.from_template(\n",
        "    \"Consider the student's personal objectives ({personal_objectives}) and challenges ({challenges}). Provide suggestions to help them achieve their goals.\"\n",
        ") | model\n",
        "\n",
        "extracurricular_activities_chain = ChatPromptTemplate.from_template(\n",
        "    \"Incorporate the student's extracurricular activities ({extracurricular_activities}) into the study plan. Ensure a balance between academic and personal development.\"\n",
        ") | model\n",
        "\n",
        "synthesis_chain = ChatPromptTemplate.from_template(\n",
        "    \"Create a detailed and personalized study plan based on the given information. Include study techniques, schedules, and resources. Name: {name}, Field of Study: {field_of_study}, Year of Study: {year_of_study}, List of Subjects: {list_of_subjects}, Preferred Learning Styles: {preferred_learning_styles}, Personal Objectives: {personal_objectives}, Challenges: {challenges}, Extracurricular Activities: {extracurricular_activities}.\"\n",
        ") | model\n",
        "\n",
        "closing_remarks_chain = ChatPromptTemplate.from_template(\n",
        "    \"Summarize the study plan and provide additional recommendations or motivational advice.\"\n",
        ") | model\n",
        "\n",
        "# Combine the individual chains into a parallel map chain\n",
        "map_chain = RunnableParallel(\n",
        "    introduction=introduction_chain,\n",
        "    academic_analysis=academic_analysis_chain,\n",
        "    learning_styles=learning_styles_chain,\n",
        "    personal_objectives=personal_objectives_chain,\n",
        "    extracurricular_activities=extracurricular_activities_chain,\n",
        "    synthesis=synthesis_chain,\n",
        "    closing_remarks=closing_remarks_chain\n",
        ")\n",
        "\n",
        "# Example input\n",
        "input_data = {\n",
        "    \"name\": \"John Doe\",\n",
        "    \"field_of_study\": \"Computer Science\",\n",
        "    \"year_of_study\": \"2nd Year\",\n",
        "    \"list_of_subjects\": \"Algorithms, Data Structures, Operating Systems, Databases\",\n",
        "    \"preferred_learning_styles\": \"visual, auditory\",\n",
        "    \"personal_objectives\": \"prepare for upcoming exams, understand algorithms better\",\n",
        "    \"challenges\": \"difficulty in understanding complex algorithms\",\n",
        "    \"extracurricular_activities\": \"chess club, coding competitions\"\n",
        "}\n",
        "\n",
        "# Invoke the map chain with the example input\n",
        "result = map_chain.invoke(input_data)\n",
        "print(result)\n"
      ]
    },
    {
      "cell_type": "code",
      "execution_count": null,
      "metadata": {
        "colab": {
          "base_uri": "https://localhost:8080/"
        },
        "id": "sv2NwWZjV-B6",
        "outputId": "9da5cb60-c5a7-4fcb-8648-9e0b8482535f"
      },
      "outputs": [
        {
          "data": {
            "text/plain": [
              "AIMessage(content='John Doe is a 2nd year student majoring in Computer Science. He is currently studying subjects such as Algorithms, Data Structures, Operating Systems, and Databases. John shows a keen interest in programming and has a strong foundation in computer science fundamentals. He is dedicated and hardworking, always looking to expand his knowledge and skills in the field. John is a promising student with a bright future ahead in the tech industry.', response_metadata={'token_usage': {'completion_tokens': 85, 'prompt_tokens': 53, 'total_tokens': 138}, 'model_name': 'gpt-3.5-turbo-0125', 'system_fingerprint': None, 'finish_reason': 'stop', 'logprobs': None}, id='run-80742e96-ba9c-479b-b2cb-ee0b8739c4e4-0', usage_metadata={'input_tokens': 53, 'output_tokens': 85, 'total_tokens': 138})"
            ]
          },
          "execution_count": 6,
          "metadata": {},
          "output_type": "execute_result"
        }
      ],
      "source": [
        "result.get('introduction')"
      ]
    },
    {
      "cell_type": "code",
      "execution_count": null,
      "metadata": {
        "id": "B1RyDcnJPfHs"
      },
      "outputs": [],
      "source": [
        "intro_chain = ChatPromptTemplate.from_template(f\"{sys_prompt}\\n\\n\") | model\n",
        "poem_chain = (\n",
        "    ChatPromptTemplate.from_template(\"write a 2-line poem about {topic}\") | model\n",
        ")\n",
        "\n",
        "map_chain = RunnableParallel(joke=joke_chain, poem=poem_chain)\n",
        "\n",
        "map_chain.invoke({\"topic\": \"bear\"})"
      ]
    },
    {
      "cell_type": "code",
      "execution_count": null,
      "metadata": {
        "id": "S_cU5-OyYVvl"
      },
      "outputs": [],
      "source": [
        "from langchain.prompts import PromptTemplate\n",
        "from langchain_core.prompts import ChatPromptTemplate\n",
        "from langchain_core.runnables import RunnableParallel\n",
        "from langchain_openai import ChatOpenAI\n",
        "from dotenv import load_dotenv\n",
        "import os\n",
        "\n",
        "load_dotenv()\n",
        "\n",
        "openai_key = os.getenv('OPENAI_API_KEY')\n",
        "\n",
        "\n",
        "model = ChatOpenAI(api_key = openai_key)\n",
        "template = \"\"\"\n",
        "You are an expert educational consultant specializing in creating personalized study plans for students. Your task is to generate a customized study plan for the student based on the provided information. The study plan should address academic requirements, preferred learning styles, personal objectives, challenges, and extracurricular activities.\n",
        "\n",
        "### Student Information:\n",
        "  - Name: {name}\n",
        "  - Field of Study: {field_of_study}\n",
        "  - Year of Study: {year_of_study}\n",
        "  - List of Subjects: {list_of_subjects}\n",
        "  - Preferred Learning Styles: {preferred_learning_styles}\n",
        "  - Personal Objectives: {personal_objectives}\n",
        "  - Challenges: {challenges}\n",
        "  - Extracurricular Activities: {extracurricular_activities}\n",
        "\n",
        "### Study Plan Template:\n",
        "  -> Week 1-4: Initial Phase\n",
        "  - Academic Goals:\n",
        "    <provide a list of goals to achieve in the coming month on the basis of previous academic record of student.>\n",
        "\n",
        "  -> Weekly Schedule:\n",
        "  - Monday to Friday:\n",
        "    Analyze data and list the names of courses that needs to be improved in terms of more practice, review and study.\n",
        "    <time slot>: <course name: motivation why this course should be prioritized>\n",
        "    <time slot>: <break>\n",
        "    ...\n",
        "  - Weekends:\n",
        "    Analyze data and decide how a student should be spending his time in extracurricular and kinesthetic activities.\n",
        "    <duration> hours of <activity>\n",
        "    ...\n",
        "  - Resources:\n",
        "    Provide a list of resources best suitable for the students abilities and previous performances.\n",
        "    <resource name> : <type>, <what it will cover>\n",
        "    ...\n",
        "  - Check-ins:\n",
        "    List Weekly progress meetings every Sunday.\n",
        "    <meeting>: <meeting reason>\n",
        "    ...\n",
        "  - Personal Goals:\n",
        "\n",
        "    Practice time management skills by using a daily planner. Overcome test anxiety by practicing mindfulness and relaxation techniques.\n",
        "    <technique/ exercise>: <motivation and its impact>\n",
        "\n",
        "Remember to make the study plan as detailed and actionable as possible, catering to the unique needs and aspirations of the student.\n",
        "\"\"\"\n",
        "\n",
        "prompt = PromptTemplate(template=template, input_variables=[\n",
        "    \"name\",\n",
        "    \"field_of_study\",\n",
        "    \"year_of_study\",\n",
        "    \"list_of_subjects\",\n",
        "    \"preferred_learning_styles\",\n",
        "    \"personal_objectives\",\n",
        "    \"challenges\",\n",
        "    \"extracurricular_activities\"\n",
        "])\n",
        "# Example input\n",
        "input_data = {\n",
        "    \"name\": \"John Doe\",\n",
        "    \"field_of_study\": \"Computer Science\",\n",
        "    \"year_of_study\": \"2nd Year\",\n",
        "    \"list_of_subjects\": \"Algorithms, Data Structures, Operating Systems, Databases\",\n",
        "    \"preferred_learning_styles\": \"visual, auditory\",\n",
        "    \"personal_objectives\": \"prepare for upcoming exams, understand algorithms better\",\n",
        "    \"challenges\": \"difficulty in understanding complex algorithms\",\n",
        "    \"extracurricular_activities\": \"chess club, coding competitions\"\n",
        "}\n",
        "\n",
        "chain =  prompt |model\n",
        "result = chain.invoke(input_data)\n"
      ]
    },
    {
      "cell_type": "code",
      "execution_count": null,
      "metadata": {
        "colab": {
          "base_uri": "https://localhost:8080/"
        },
        "id": "T9KLPPtkbJBN",
        "outputId": "f82f99ea-3339-4fad-e1b3-db2b2510b6ef"
      },
      "outputs": [
        {
          "name": "stdout",
          "output_type": "stream",
          "text": [
            "### Study Plan for John Doe - Computer Science, 2nd Year\n",
            "\n",
            "#### Week 1-4: Initial Phase\n",
            "- Academic Goals:\n",
            "  1. Achieve a better understanding of complex algorithms.\n",
            "  2. Prepare thoroughly for upcoming exams in Algorithms, Data Structures, Operating Systems, and Databases.\n",
            "\n",
            "#### Weekly Schedule:\n",
            "- Monday to Friday:\n",
            "  - 9:00 AM - 11:00 AM: Algorithms - Focus on understanding key concepts and solving practice problems.\n",
            "  - 11:30 AM - 1:30 PM: Data Structures - Work on implementing different data structures and practice coding.\n",
            "  - 2:00 PM - 4:00 PM: Operating Systems - Review lecture notes and work on assignments.\n",
            "  - 4:30 PM - 6:30 PM: Databases - Study relational database concepts and practice SQL queries.\n",
            "\n",
            "- Weekends:\n",
            "  - Analyze data and decide how to balance study time with extracurricular activities.\n",
            "  - 2 hours of chess club meetings and practice on Saturdays.\n",
            "  - Participate in coding competitions on Sundays to apply theoretical knowledge practically.\n",
            "\n",
            "#### Resources:\n",
            "- Algorithms: \"Introduction to Algorithms\" textbook, online coding platforms for practice.\n",
            "- Data Structures: \"Data Structures and Algorithms in Java\" book, LeetCode for coding challenges.\n",
            "- Operating Systems: Online lectures from top universities, practice quizzes.\n",
            "- Databases: \"Database Systems: The Complete Book\" for in-depth understanding, SQL tutorials online.\n",
            "\n",
            "#### Check-ins:\n",
            "- Weekly progress meetings every Sunday to review study plan effectiveness and address any challenges faced during the week.\n",
            "\n",
            "#### Personal Goals:\n",
            "- Use a daily planner to manage study time effectively and allocate time for extracurricular activities.\n",
            "- Practice mindfulness and relaxation techniques to reduce test anxiety and improve focus during exams.\n"
          ]
        }
      ],
      "source": [
        "print(result.content)"
      ]
    },
    {
      "cell_type": "code",
      "execution_count": null,
      "metadata": {
        "id": "L5r8nz29vEsU"
      },
      "outputs": [],
      "source": []
    },
    {
      "cell_type": "code",
      "execution_count": null,
      "metadata": {
        "id": "exhbNSgIuJLF"
      },
      "outputs": [],
      "source": []
    }
  ],
  "metadata": {
    "colab": {
      "provenance": []
    },
    "kernelspec": {
      "display_name": "Python 3",
      "name": "python3"
    },
    "language_info": {
      "name": "python",
      "version": "3.12.2"
    }
  },
  "nbformat": 4,
  "nbformat_minor": 0
}
