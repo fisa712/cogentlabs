{
  "cells": [
    {
      "cell_type": "markdown",
      "metadata": {},
      "source": [
        "# Study Plan generation using LangChain 🦜🔗\n",
        "- Setup: please run requirements.txt file to make sure the dependencies are installed.\n",
        "- Environment variables: create a .env file and place your API_KEY inside it.\n",
        "\n",
        "[View Notebook on GitHub](https://github.com/fisa712/cogentlabs/blob/main/UntitledCogent.ipynb)\n",
        "\n",
        "\n",
        "[![Run in Colab](https://colab.research.google.com/assets/colab-badge.svg)](https://colab.research.google.com/github/yourusername/yourrepository/blob/main/path/to/your_notebook.ipynb)"
      ]
    },
    {
      "cell_type": "code",
      "execution_count": 1,
      "metadata": {
        "id": "S_cU5-OyYVvl"
      },
      "outputs": [],
      "source": [
        "from langchain.prompts import PromptTemplate\n",
        "from langchain_core.prompts import ChatPromptTemplate\n",
        "from langchain_core.runnables import RunnableParallel\n",
        "from langchain_openai import ChatOpenAI\n",
        "from dotenv import load_dotenv\n",
        "import os\n",
        "\n",
        "load_dotenv()\n",
        "\n",
        "openai_key = os.getenv('OPENAI_API_KEY')\n",
        "\n",
        "\n",
        "model = ChatOpenAI(api_key = openai_key, model='gpt-4')\n",
        "template = \"\"\"\n",
        "You are an expert educational consultant specializing in creating personalized study plans for students. Your task is to generate a customized study plan for the student based on the provided information and the template. The study plan should address academic requirements, preferred learning styles, personal objectives, challenges, and extracurricular activities.\n",
        "\n",
        "### Student Information:\n",
        "  - Name: {name}\n",
        "  - Field of Study: {field_of_study}\n",
        "  - Year of Study: {year_of_study}\n",
        "  - List of Subjects: {list_of_subjects}\n",
        "  - Preferred Learning Styles: {preferred_learning_styles}\n",
        "  - Personal Objectives: {personal_objectives}\n",
        "  - Challenges: {challenges}\n",
        "  - Extracurricular Activities: {extracurricular_activities}\n",
        "\n",
        "### Study Plan Template:\n",
        "  -> Week 1-4: Initial Phase\n",
        "  - Academic Goals:\n",
        "    <provide a list of goals to achieve in the coming month on the basis of previous academic record of student.>\n",
        "\n",
        "  -> Weekly Schedule:\n",
        "  - Monday to Friday:\n",
        "    **Instruction**: To create a weekly schedule analyze data of student and list the names of courses that needs to be improved in terms of more practice, review and study.\n",
        "    <time slot>: <course name: motivation why this course should be prioritized>\n",
        "    <time slot>: <break> (if required between the courses for a healthy balance)\n",
        "    ...\n",
        "  - Weekends:\n",
        "    **Instruction**: Analyze data and decide how a student should be spending his time in extracurricular and kinesthetic activities according to the students details provided.\n",
        "    <duration> hours of <activity>\n",
        "    ...\n",
        "  - Resources:\n",
        "    **Instruction**: Provide a list of resources best suitable for the students abilities and previous performances.\n",
        "    <resource name> : <type>, <discuss what it will cover>\n",
        "    ...\n",
        "  - Check-ins:\n",
        "    **Instruction**: Provide a meeting schedule to meet the improvements and deficiencies.\n",
        "    <meeting name> <meeting time slot>: <meeting reason, objectives>\n",
        "    ...\n",
        "  - Personal Goals:\n",
        "\n",
        "    **Instruction**: List any exercise or any hobby for student to craete a worklife balance by looking at its data.\n",
        "    <technique/ exercise>: <motivation and its impact>\n",
        "\n",
        "Remember to make the study plan as detailed and actionable as possible, catering to the unique needs and aspirations of the student. Moreover refrain from giving any side notes except the study plan.\n",
        "\"\"\"\n",
        "\n",
        "prompt = PromptTemplate(template=template, input_variables=[\n",
        "    \"name\",\n",
        "    \"field_of_study\",\n",
        "    \"year_of_study\",\n",
        "    \"list_of_subjects\",\n",
        "    \"preferred_learning_styles\",\n",
        "    \"personal_objectives\",\n",
        "    \"challenges\",\n",
        "    \"extracurricular_activities\"\n",
        "])\n",
        "# Example input\n",
        "input_data = {\n",
        "    \"name\": \"Yousaf Hashmi\",\n",
        "    \"field_of_study\": \"Computer Science\",\n",
        "    \"year_of_study\": \"2nd Year\",\n",
        "    \"list_of_subjects\": \"Algorithms, Data Structures, Operating Systems, Databases\",\n",
        "    \"preferred_learning_styles\": \"visual, auditory\",\n",
        "    \"personal_objectives\": \"prepare for upcoming exams, understand algorithms better\",\n",
        "    \"challenges\": \"difficulty in understanding complex algorithms\",\n",
        "    \"extracurricular_activities\": \"chess club, coding competitions\"\n",
        "}\n",
        "\n",
        "chain =  prompt | model\n",
        "result = chain.invoke(input_data)\n"
      ]
    },
    {
      "cell_type": "code",
      "execution_count": 2,
      "metadata": {
        "colab": {
          "base_uri": "https://localhost:8080/"
        },
        "id": "T9KLPPtkbJBN",
        "outputId": "f82f99ea-3339-4fad-e1b3-db2b2510b6ef"
      },
      "outputs": [
        {
          "name": "stdout",
          "output_type": "stream",
          "text": [
            "### Study Plan for Yousaf Hashmi\n",
            "\n",
            "-> Week 1-4: Initial Phase\n",
            "  - Academic Goals:\n",
            "    1. Improve understanding and application of algorithms\n",
            "    2. Prepare for upcoming exams in all subjects\n",
            "    3. Improve competency in Data Structures, Operating Systems, and Databases\n",
            "\n",
            "-> Weekly Schedule:\n",
            "  - Monday to Friday:\n",
            "    8:00 - 10:00: Algorithms - As Yousaf has mentioned difficulty in understanding complex algorithms, this subject should be prioritized.\n",
            "    10:00 - 10:30: Break\n",
            "    10:30 - 12:30: Data Structures - This is key to understanding algorithms better, hence it should be studied after algorithms.\n",
            "    12:30 - 1:30: Break\n",
            "    1:30 - 3:30: Operating Systems - This subject is fundamental to the field of Computer Science.\n",
            "    3:30 - 4:00: Break\n",
            "    4:00 - 6:00: Databases - This subject will complete knowledge base essential for coding competitions.\n",
            "\n",
            "  - Weekends:\n",
            "    2 hours of Chess Club - This will help Yousaf relax and also improve strategic thinking which is beneficial for algorithm understanding.\n",
            "    3 hours of Coding Competitions - This will help apply the knowledge gained during the week and improve coding skills.\n",
            "\n",
            "  - Resources:\n",
            "    Algorithms Unlocked (Book) : Text, This book will provide a comprehensive understanding of algorithms.\n",
            "    Coursera Course: Data Structures and Algorithms : Online Course, This course will provide a practical approach to the subjects.\n",
            "    \n",
            "  - Check-ins:\n",
            "    Weekly Progress Meeting Saturday 5:00 - 6:00: To review the week's progress, understand challenges faced and plan for the next week.\n",
            "    \n",
            "  - Personal Goals:\n",
            "    Mind Mapping Technique: This technique can help Yousaf understand and remember complex algorithms better. It can be done during the study hours for algorithms.\n"
          ]
        }
      ],
      "source": [
        "print(result.content)"
      ]
    },
    {
      "cell_type": "markdown",
      "metadata": {},
      "source": [
        "Summary Generation "
      ]
    },
    {
      "cell_type": "markdown",
      "metadata": {},
      "source": [
        "With LangChain, the map_reduce chain breaks the document down into 1024 token chunks max."
      ]
    },
    {
      "cell_type": "code",
      "execution_count": null,
      "metadata": {},
      "outputs": [],
      "source": [
        "# %pip install --upgrade --quiet langchain-google-community[drive]"
      ]
    },
    {
      "cell_type": "code",
      "execution_count": 3,
      "metadata": {},
      "outputs": [],
      "source": [
        "from langchain_google_community import GoogleDriveLoader"
      ]
    },
    {
      "cell_type": "code",
      "execution_count": 4,
      "metadata": {},
      "outputs": [],
      "source": [
        "from langchain_community.document_loaders import PyPDFLoader\n",
        "\n",
        "loader = PyPDFLoader(\"./books/crime-and-punishment.pdf\", )\n",
        "docs = loader.load()"
      ]
    },
    {
      "cell_type": "code",
      "execution_count": 9,
      "metadata": {},
      "outputs": [
        {
          "data": {
            "text/plain": [
              "(767, list)"
            ]
          },
          "execution_count": 9,
          "metadata": {},
          "output_type": "execute_result"
        }
      ],
      "source": [
        "len(docs), type(docs)"
      ]
    },
    {
      "cell_type": "code",
      "execution_count": 20,
      "metadata": {},
      "outputs": [
        {
          "name": "stdout",
          "output_type": "stream",
          "text": [
            "0\n",
            "38\n",
            "76\n",
            "114\n",
            "152\n",
            "190\n",
            "228\n",
            "266\n",
            "304\n",
            "342\n",
            "380\n",
            "418\n",
            "456\n",
            "494\n",
            "532\n",
            "570\n",
            "608\n",
            "646\n",
            "684\n",
            "722\n",
            "760\n"
          ]
        }
      ],
      "source": [
        "for i in range(0 , len(docs), 38):\n",
        "    "
      ]
    },
    {
      "cell_type": "code",
      "execution_count": 12,
      "metadata": {},
      "outputs": [],
      "source": [
        "# from langchain_text_splitters import RecursiveCharacterTextSplitter\n",
        "# text_splitter = RecursiveCharacterTextSplitter(\n",
        "#     # Set a really small chunk size, just to show.\n",
        "#     chunk_size=10000,\n",
        "#     chunk_overlap=200,\n",
        "#     # length_function=len,\n",
        "#     # is_separator_regex=False,\n",
        "# )"
      ]
    },
    {
      "cell_type": "code",
      "execution_count": 13,
      "metadata": {},
      "outputs": [
        {
          "name": "stdout",
          "output_type": "stream",
          "text": [
            "page_content='Download free eBooks of classic literature, books and \\nnovels at Planet eBook. Subscribe to our free eBooks blog \\nand email newsletter.Crime and Punishment\\nBy Fyodor Dostoevsky' metadata={'source': './books/crime-and-punishment.pdf', 'page': 0}\n",
            "page_content='Crime and Punishment \\x18Translator’s Preface\\nA few words about Dostoevsky himself may help the Eng -\\nlish reader to understand his work.\\nDostoevsky was the son of a doctor. His parents were \\nvery hard- working and deeply religious people, but so poor \\nthat they lived with their five children in only two rooms. \\nThe father and mother spent their evenings in reading aloud \\nto their children, generally from books of a serious charac -\\nter.\\nThough always sickly and delicate Dostoevsky came out \\nthird in the final examination of the Petersburg school of \\nEngineering. There he had already begun his first work, \\n‘Poor Folk.’\\nThis story was published by the poet Nekrassov in his \\nreview and was received with acclamations. The shy, un -\\nknown youth found himself instantly something of a \\ncelebrity. A brilliant and successful career seemed to open \\nbefore him, but those hopes were soon dashed. In 1849 he \\nwas arrested.\\nThough neither by temperament nor conviction a revolu -\\ntionist, Dostoevsky was one of a little group of young men \\nwho met together to read Fourier and Proudhon. He was ac -\\ncused of ‘taking part in conversations against the censorship, \\nof reading a letter from Byelinsky to Gogol, and of knowing \\nof the intention to set up a printing press.’ Under Nicholas I.' metadata={'source': './books/crime-and-punishment.pdf', 'page': 1}\n"
          ]
        }
      ],
      "source": [
        "# texts = text_splitter.split_documents(docs)\n",
        "# print(texts[0])\n",
        "# print(texts[1])"
      ]
    },
    {
      "cell_type": "code",
      "execution_count": null,
      "metadata": {},
      "outputs": [],
      "source": []
    }
  ],
  "metadata": {
    "colab": {
      "provenance": []
    },
    "kernelspec": {
      "display_name": "Python 3",
      "name": "python3"
    },
    "language_info": {
      "codemirror_mode": {
        "name": "ipython",
        "version": 3
      },
      "file_extension": ".py",
      "mimetype": "text/x-python",
      "name": "python",
      "nbconvert_exporter": "python",
      "pygments_lexer": "ipython3",
      "version": "3.12.3"
    }
  },
  "nbformat": 4,
  "nbformat_minor": 0
}
