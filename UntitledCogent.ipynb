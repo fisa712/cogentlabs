{
  "cells": [
    {
      "cell_type": "markdown",
      "metadata": {},
      "source": [
        "# Study Plan generation using LangChain 🦜🔗\n",
        "- Setup: please run requirements.txt file to make sure the dependencies are installed.\n",
        "- Environment variables: create a .env file and place your API_KEY inside it.\n",
        "\n",
        "[View Notebook on GitHub](https://github.com/fisa712/cogentlabs/blob/main/UntitledCogent.ipynb)\n",
        "\n",
        "\n",
        "[![Run in Colab](https://colab.research.google.com/assets/colab-badge.svg)](https://colab.research.google.com/github/yourusername/yourrepository/blob/main/path/to/your_notebook.ipynb)"
      ]
    },
    {
      "cell_type": "markdown",
      "metadata": {},
      "source": [
        "Please note: I have a limited subscription to my openai key so i only generated summary of few pages instead."
      ]
    },
    {
      "cell_type": "code",
      "execution_count": 1,
      "metadata": {
        "id": "S_cU5-OyYVvl"
      },
      "outputs": [],
      "source": [
        "from langchain.prompts import PromptTemplate\n",
        "from langchain_core.prompts import ChatPromptTemplate\n",
        "from langchain_core.runnables import RunnableParallel\n",
        "from langchain_openai import ChatOpenAI\n",
        "from dotenv import load_dotenv\n",
        "import os\n"
      ]
    },
    {
      "cell_type": "code",
      "execution_count": 2,
      "metadata": {},
      "outputs": [],
      "source": [
        "\n",
        "load_dotenv()\n",
        "\n",
        "openai_key = os.getenv('OPENAI_API_KEY')\n",
        "\n",
        "\n",
        "model = ChatOpenAI(api_key = openai_key, model='gpt-4')\n",
        "template = \"\"\"\n",
        "You are an expert educational consultant specializing in creating personalized study plans for students. Your task is to generate a customized study plan for the student based on the provided information and the template. The study plan should address academic requirements, preferred learning styles, personal objectives, challenges, and extracurricular activities.\n",
        "\n",
        "### Student Information:\n",
        "  - Name: {name}\n",
        "  - Field of Study: {field_of_study}\n",
        "  - Year of Study: {year_of_study}\n",
        "  - List of Subjects: {list_of_subjects}\n",
        "  - Preferred Learning Styles: {preferred_learning_styles}\n",
        "  - Personal Objectives: {personal_objectives}\n",
        "  - Challenges: {challenges}\n",
        "  - Extracurricular Activities: {extracurricular_activities}\n",
        "\n",
        "### Study Plan Template:\n",
        "  -> Week 1-4: Initial Phase\n",
        "  - Academic Goals:\n",
        "    <provide a list of goals to achieve in the coming month on the basis of previous academic record of student.>\n",
        "\n",
        "  -> Weekly Schedule:\n",
        "  - Monday to Friday:\n",
        "    **Instruction**: To create a weekly schedule analyze data of student and list the names of courses that needs to be improved in terms of more practice, review and study.\n",
        "    <time slot>: <course name: motivation why this course should be prioritized>\n",
        "    <time slot>: <break> (if required between the courses for a healthy balance)\n",
        "    ...\n",
        "  - Weekends:\n",
        "    **Instruction**: Analyze data and decide how a student should be spending his time in extracurricular and kinesthetic activities according to the students details provided.\n",
        "    <duration> hours of <activity>\n",
        "    ...\n",
        "  - Resources:\n",
        "    **Instruction**: Provide a list of resources best suitable for the students abilities and previous performances.\n",
        "    <resource name> : <type>, <discuss what it will cover>\n",
        "    ...\n",
        "  - Check-ins:\n",
        "    **Instruction**: Provide a meeting schedule to meet the improvements and deficiencies.\n",
        "    <meeting name> <meeting time slot>: <meeting reason, objectives>\n",
        "    ...\n",
        "  - Personal Goals:\n",
        "\n",
        "    **Instruction**: List any exercise or any hobby for student to craete a worklife balance by looking at its data.\n",
        "    <technique/ exercise>: <motivation and its impact>\n",
        "\n",
        "Remember to make the study plan as detailed and actionable as possible, catering to the unique needs and aspirations of the student. Moreover refrain from giving any side notes except the study plan.\n",
        "\"\"\"\n",
        "\n",
        "prompt = PromptTemplate(template=template, input_variables=[\n",
        "    \"name\",\n",
        "    \"field_of_study\",\n",
        "    \"year_of_study\",\n",
        "    \"list_of_subjects\",\n",
        "    \"preferred_learning_styles\",\n",
        "    \"personal_objectives\",\n",
        "    \"challenges\",\n",
        "    \"extracurricular_activities\"\n",
        "])\n",
        "# Example input\n",
        "input_data = {\n",
        "    \"name\": \"Yousaf Hashmi\",\n",
        "    \"field_of_study\": \"Computer Science\",\n",
        "    \"year_of_study\": \"2nd Year\",\n",
        "    \"list_of_subjects\": \"Algorithms, Data Structures, Operating Systems, Databases\",\n",
        "    \"preferred_learning_styles\": \"visual, auditory\",\n",
        "    \"personal_objectives\": \"prepare for upcoming exams, understand algorithms better\",\n",
        "    \"challenges\": \"difficulty in understanding complex algorithms\",\n",
        "    \"extracurricular_activities\": \"chess club, coding competitions\"\n",
        "}\n",
        "\n",
        "chain =  prompt | model\n",
        "result = chain.invoke(input_data)\n"
      ]
    },
    {
      "cell_type": "code",
      "execution_count": 2,
      "metadata": {
        "colab": {
          "base_uri": "https://localhost:8080/"
        },
        "id": "T9KLPPtkbJBN",
        "outputId": "f82f99ea-3339-4fad-e1b3-db2b2510b6ef"
      },
      "outputs": [
        {
          "name": "stdout",
          "output_type": "stream",
          "text": [
            "### Study Plan for Yousaf Hashmi\n",
            "\n",
            "-> Week 1-4: Initial Phase\n",
            "  - Academic Goals:\n",
            "    1. Improve understanding and application of algorithms\n",
            "    2. Prepare for upcoming exams in all subjects\n",
            "    3. Improve competency in Data Structures, Operating Systems, and Databases\n",
            "\n",
            "-> Weekly Schedule:\n",
            "  - Monday to Friday:\n",
            "    8:00 - 10:00: Algorithms - As Yousaf has mentioned difficulty in understanding complex algorithms, this subject should be prioritized.\n",
            "    10:00 - 10:30: Break\n",
            "    10:30 - 12:30: Data Structures - This is key to understanding algorithms better, hence it should be studied after algorithms.\n",
            "    12:30 - 1:30: Break\n",
            "    1:30 - 3:30: Operating Systems - This subject is fundamental to the field of Computer Science.\n",
            "    3:30 - 4:00: Break\n",
            "    4:00 - 6:00: Databases - This subject will complete knowledge base essential for coding competitions.\n",
            "\n",
            "  - Weekends:\n",
            "    2 hours of Chess Club - This will help Yousaf relax and also improve strategic thinking which is beneficial for algorithm understanding.\n",
            "    3 hours of Coding Competitions - This will help apply the knowledge gained during the week and improve coding skills.\n",
            "\n",
            "  - Resources:\n",
            "    Algorithms Unlocked (Book) : Text, This book will provide a comprehensive understanding of algorithms.\n",
            "    Coursera Course: Data Structures and Algorithms : Online Course, This course will provide a practical approach to the subjects.\n",
            "    \n",
            "  - Check-ins:\n",
            "    Weekly Progress Meeting Saturday 5:00 - 6:00: To review the week's progress, understand challenges faced and plan for the next week.\n",
            "    \n",
            "  - Personal Goals:\n",
            "    Mind Mapping Technique: This technique can help Yousaf understand and remember complex algorithms better. It can be done during the study hours for algorithms.\n"
          ]
        }
      ],
      "source": [
        "print(result.content)"
      ]
    },
    {
      "cell_type": "markdown",
      "metadata": {},
      "source": [
        "# Task: Summary Generation of the book"
      ]
    },
    {
      "cell_type": "markdown",
      "metadata": {},
      "source": [
        "\n",
        "- I designed my custom approach to create the summary document.\n",
        "- With LangChain, the map_reduce chain breaks the document down into 1024 token chunks max."
      ]
    },
    {
      "cell_type": "code",
      "execution_count": null,
      "metadata": {},
      "outputs": [],
      "source": [
        "# %pip install --upgrade --quiet langchain-google-community[drive]"
      ]
    },
    {
      "cell_type": "code",
      "execution_count": 3,
      "metadata": {},
      "outputs": [],
      "source": [
        "from langchain_google_community import GoogleDriveLoader"
      ]
    },
    {
      "cell_type": "code",
      "execution_count": 7,
      "metadata": {},
      "outputs": [],
      "source": [
        "from langchain_community.document_loaders import PyPDFLoader\n",
        "\n",
        "loader = PyPDFLoader(\"./books/crime-and-punishment.pdf\", )\n",
        "docs = loader.load()"
      ]
    },
    {
      "cell_type": "code",
      "execution_count": 9,
      "metadata": {},
      "outputs": [
        {
          "data": {
            "text/plain": [
              "(767, list)"
            ]
          },
          "execution_count": 9,
          "metadata": {},
          "output_type": "execute_result"
        }
      ],
      "source": [
        "len(docs), type(docs)"
      ]
    },
    {
      "cell_type": "code",
      "execution_count": 21,
      "metadata": {},
      "outputs": [
        {
          "data": {
            "text/plain": [
              "[{'summary': AIMessage(content='\"Crime and Punishment\" by Fyodor Dostoevsky is a classic piece of literature available for free on Planet eBook. The book begins with an introduction to Dostoevsky, a celebrated Russian author who lived a life of poverty, hard labor, and suffering due to his involvement in revolutionary activities. His experiences profoundly impacted his work, including this novel. \\n\\nThe story starts with a young man named Raskolnikov, who lives in a decrepit garret in Petersburg. He is in debt and suffers from mental health issues, making him feel isolated from society. Despite his condition, he is not bothered by his shabby appearance, but he fears interacting with others, especially his landlady to whom he owes money.\\n\\nRaskolnikov contemplates a \\'project\\' he is planning, which he rehearses by visiting the flat of an old woman. The woman, who lives in a small, clean room with minimal furniture, is wary of him. Raskolnikov\\'s project is left ambiguous, building suspense for the reader.\\n\\nThis summary also mentions that Dostoevsky\\'s life experiences, particularly his imprisonment and exile to Siberia, greatly influenced his writing. His works often explore themes of suffering, punishment, and the human capacity for endurance.', response_metadata={'token_usage': {'completion_tokens': 262, 'prompt_tokens': 4003, 'total_tokens': 4265}, 'model_name': 'gpt-4-0613', 'system_fingerprint': None, 'finish_reason': 'stop', 'logprobs': None}, id='run-9af1de72-b367-42e0-9536-f4c444d97f97-0', usage_metadata={'input_tokens': 4003, 'output_tokens': 262, 'total_tokens': 4265})}]"
            ]
          },
          "execution_count": 21,
          "metadata": {},
          "output_type": "execute_result"
        }
      ],
      "source": [
        "from typing import Any\n",
        "from langchain.prompts import PromptTemplate\n",
        "\n",
        "from langchain_core.runnables import (\n",
        "    ConfigurableField,\n",
        "    Runnable,\n",
        "    RunnableLambda,\n",
        "    RunnableParallel,\n",
        "    RunnablePassthrough,\n",
        ")\n",
        "step = 20\n",
        "\n",
        "prompt_template = \"\"\"Write a concise 1 page summary of the following:\n",
        "\"{book_section}\"\n",
        "ONE PAGE SUMMARY:\"\"\"\n",
        "summ_prompt = PromptTemplate.from_template(prompt_template)\n",
        "\n",
        "\n",
        "get_sections: Runnable[Any, Any] = (\n",
        "    RunnablePassthrough() | \n",
        "    RunnableLambda(\n",
        "        lambda docs: [\n",
        "            {\"book_section\": \"\\n\".join(doc.page_content.strip('Free eBooks at Planet eBook.com') for doc in docs[i:i+step])}\n",
        "            for i in range(0, len(docs), step)\n",
        "        ]\n",
        "    )\n",
        ")\n",
        "search_query = summ_prompt | ChatOpenAI(model='gpt-4-0125-preview', temperature=0, openai_api_key = openai_key) #| StrOutputParser() | load_json\n",
        "\n",
        "def add_paragraphs(text):\n",
        "    para = text.content\n",
        "    #  = text.get('summary')\n",
        "    return para\n",
        "\n",
        "\n",
        "\n",
        "summarize: Runnable[Any, Any] = (\n",
        "    RunnableParallel(\n",
        "        {\n",
        "            \"summary\": summ_prompt | model #| RunnableLambda(add_paragraphs)\n",
        "        }\n",
        "    ) \n",
        ")\n",
        "chain = get_sections | summarize.map()\n",
        "summaries = chain.invoke(docs)\n",
        "summaries.content"
      ]
    },
    {
      "cell_type": "code",
      "execution_count": 26,
      "metadata": {},
      "outputs": [
        {
          "data": {
            "text/plain": [
              "'\"Crime and Punishment\" by Fyodor Dostoevsky is a classic piece of literature available for free on Planet eBook. The book begins with an introduction to Dostoevsky, a celebrated Russian author who lived a life of poverty, hard labor, and suffering due to his involvement in revolutionary activities. His experiences profoundly impacted his work, including this novel. \\n\\nThe story starts with a young man named Raskolnikov, who lives in a decrepit garret in Petersburg. He is in debt and suffers from mental health issues, making him feel isolated from society. Despite his condition, he is not bothered by his shabby appearance, but he fears interacting with others, especially his landlady to whom he owes money.\\n\\nRaskolnikov contemplates a \\'project\\' he is planning, which he rehearses by visiting the flat of an old woman. The woman, who lives in a small, clean room with minimal furniture, is wary of him. Raskolnikov\\'s project is left ambiguous, building suspense for the reader.\\n\\nThis summary also mentions that Dostoevsky\\'s life experiences, particularly his imprisonment and exile to Siberia, greatly influenced his writing. His works often explore themes of suffering, punishment, and the human capacity for endurance.'"
            ]
          },
          "execution_count": 26,
          "metadata": {},
          "output_type": "execute_result"
        }
      ],
      "source": [
        "summaries[0]['summary'].content"
      ]
    },
    {
      "cell_type": "code",
      "execution_count": 29,
      "metadata": {},
      "outputs": [
        {
          "name": "stdout",
          "output_type": "stream",
          "text": [
            "Summary generated successfully.\n"
          ]
        }
      ],
      "source": [
        "from reportlab.lib.pagesizes import letter\n",
        "from reportlab.pdfgen import canvas\n",
        "\n",
        "class PDFCreator:\n",
        "    def __init__(self, output_path):\n",
        "        self.output_path = output_path\n",
        "        self.paragraphs = []\n",
        "\n",
        "    def add_paragraph(self, paragraph, last=False):\n",
        "        self.paragraphs.append(paragraph)\n",
        "        if last:\n",
        "            self.create_pdf()\n",
        "\n",
        "    def create_pdf(self):\n",
        "        c = canvas.Canvas(self.output_path, pagesize=letter)\n",
        "        width, height = letter\n",
        "        text = c.beginText(40, height - 40)\n",
        "        text.setFont(\"Helvetica\", 12)\n",
        "\n",
        "        for paragraph in self.paragraphs:\n",
        "            text.textLines(paragraph)\n",
        "            text.moveCursor(0, 14)  # Line spacing\n",
        "\n",
        "        c.drawText(text)\n",
        "        c.showPage()\n",
        "        c.save()\n",
        "\n",
        "if __name__ =='__main__':\n",
        "\n",
        "    summaries = chain.invoke(docs[:10])\n",
        "    pdf_creator = PDFCreator(\"./summary_docs/output.pdf\")\n",
        "    # Add summaries to PDF\n",
        "    for summary in summaries:\n",
        "        pdf_creator.add_paragraph(summary['summary'].content)\n",
        "\n",
        "    # Call the last add_paragraph with last=True to create the PDF\n",
        "    pdf_creator.add_paragraph(\"\", last=True)\n",
        "    print('Summary generated successfully.')"
      ]
    },
    {
      "cell_type": "markdown",
      "metadata": {},
      "source": [
        "## Another Approach to summarize a book using mapreduce chain (langchain)"
      ]
    },
    {
      "cell_type": "code",
      "execution_count": 31,
      "metadata": {},
      "outputs": [
        {
          "name": "stdout",
          "output_type": "stream",
          "text": [
            "Crime and Punishment \u0018epilepsy, from which he suffered for the rest of his life. The \n",
            "fits occurred three or four times a year and were more fre -\n",
            "quent in periods of great strain. In 1859 he was allowed to \n",
            "return to Russia. He started a journal— ‘Vremya,’ which was \n",
            "forbidden by the Censorship through a misunderstanding. \n",
            "In 1864 he lost his first wife and his brother Mihail. He was \n",
            "in terrible poverty, yet he took upon himself the payment \n",
            "of his brother’s debts. He started another journal—‘The Ep -\n",
            "och,’ which within a few months was also prohibited. He \n",
            "was weighed down by debt, his brother’s family was depen -\n",
            "dent on him, he was forced to write at heart-breaking speed, \n",
            "and is said never to have corrected his work. The later years \n",
            "of his life were much softened by the tenderness and devo -\n",
            "tion of his second wife.\n",
            "In June 1880 he made his famous speech at the unveil -\n",
            "ing of the monument to Pushkin in Moscow and he was \n",
            "received with extraordinary demonstrations of love and \n",
            "honour.\n",
            "A few months later Dostoevsky died. He was followed to \n",
            "the grave by a vast multitude of mourners, who ‘gave the \n",
            "hapless man the funeral of a king.’ He is still probably the \n",
            "most widely read writer in Russia.\n",
            "In the words of a Russian critic, who seeks to explain the \n",
            "feeling inspired by Dostoevsky: ‘He was one of ourselves, a \n",
            "man of our blood and our bone, but one who has suffered \n",
            "and has seen so much more deeply than we have his insight \n",
            "impresses us as wisdom … that wisdom of the heart which \n",
            "we seek that we may learn from it how to live. All his other \n",
            "gifts came to him from nature, this he won for himself and\n"
          ]
        }
      ],
      "source": [
        "pdf_file = 'books/crime-and-punishment.pdf'\n",
        "pdf_loader = PyPDFLoader(pdf_file)\n",
        "pages = pdf_loader.load_and_split()\n",
        "print(pages[3].page_content)\n"
      ]
    },
    {
      "cell_type": "markdown",
      "metadata": {},
      "source": [
        "#### MapReduce\n",
        "The MapReduce method is a multi-stage approach for summarizing large texts. It works by first summarizing smaller chunks of text and then combining those summaries into a single comprehensive summary.\n",
        "\n",
        "In LangChain, this method is implemented using the MapReduceDocumentsChain. To use this, set map_reduce as the chain_type in the load_summarize_chain method.\n"
      ]
    },
    {
      "cell_type": "code",
      "execution_count": 42,
      "metadata": {},
      "outputs": [],
      "source": [
        "from langchain.chains.summarize import load_summarize_chain\n",
        "import pandas as pd\n",
        "map_prompt_template = \"\"\"\n",
        "                      Write a summary of this chunk of text that includes the main points and any important details.\n",
        "                      {text}\n",
        "                      \"\"\"\n",
        "\n",
        "map_prompt = PromptTemplate(template=map_prompt_template, input_variables=[\"text\"])\n",
        "\n",
        "combine_prompt_template = \"\"\"\n",
        "                      Write a concise summary of the following text delimited by triple backquotes.\n",
        "                      Return your response in paragraphs which covers the important points of the text.\n",
        "                      ```{text}```\n",
        "                      BULLET POINT SUMMARY:\n",
        "                      \"\"\"\n",
        "\n",
        "combine_prompt = PromptTemplate(\n",
        "    template=combine_prompt_template, input_variables=[\"text\"]\n",
        ")\n",
        "map_reduce_chain = load_summarize_chain(\n",
        "    model,\n",
        "    chain_type=\"map_reduce\",\n",
        "    map_prompt=map_prompt,\n",
        "    combine_prompt=combine_prompt,\n",
        "    return_intermediate_steps=True,\n",
        ")\n",
        "map_reduce_outputs = map_reduce_chain({\"input_documents\": pages[:30]})\n"
      ]
    },
    {
      "cell_type": "code",
      "execution_count": 43,
      "metadata": {},
      "outputs": [],
      "source": [
        "summary = map_reduce_outputs['output_text']\n"
      ]
    },
    {
      "cell_type": "code",
      "execution_count": 44,
      "metadata": {},
      "outputs": [
        {
          "name": "stdout",
          "output_type": "stream",
          "text": [
            "Summary generated successfully.\n"
          ]
        }
      ],
      "source": [
        "if __name__ =='__main__':\n",
        "    pdf_creator = PDFCreator(\"./summary_docs/map_reduce_output2.pdf\")\n",
        "    pdf_creator.add_paragraph(summary)\n",
        "\n",
        "    # Call the last add_paragraph with last=True to create the PDF\n",
        "    pdf_creator.add_paragraph(\"\", last=True)\n",
        "    print('Summary generated successfully.')"
      ]
    }
  ],
  "metadata": {
    "colab": {
      "provenance": []
    },
    "kernelspec": {
      "display_name": "Python 3",
      "name": "python3"
    },
    "language_info": {
      "codemirror_mode": {
        "name": "ipython",
        "version": 3
      },
      "file_extension": ".py",
      "mimetype": "text/x-python",
      "name": "python",
      "nbconvert_exporter": "python",
      "pygments_lexer": "ipython3",
      "version": "3.12.3"
    }
  },
  "nbformat": 4,
  "nbformat_minor": 0
}
